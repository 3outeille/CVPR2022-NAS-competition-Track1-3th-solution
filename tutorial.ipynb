{
 "cells": [
  {
   "cell_type": "markdown",
   "metadata": {},
   "source": [
    "## Prior-Guided Neural Architecture Search \n",
    "\n",
    "Competition Homepage: [2022 CVPR Track1: SuperNet Track](https://aistudio.baidu.com/aistudio/competition/detail/149/0/introduction)\n",
    "\n",
    "Table of Content\n",
    "\n",
    "- Environment Setup\n",
    "- SuperNet Training\n",
    "- SuperNet Evaluation "
   ]
  },
  {
   "cell_type": "markdown",
   "metadata": {},
   "source": [
    "### 1. Environment Setup\n",
    "\n",
    "\n",
    "1.1 Env Requirements\n",
    "\n",
    "```\n",
    "paddle==2.2.2\n",
    "fire\n",
    "matplotlib\n",
    "visualdl \n",
    "```\n",
    "\n",
    "You can run commands:\n",
    "\n",
    "```bash\n",
    "pip install -r requirements.txt \n",
    "```\n",
    "\n",
    "1.2 Data Prepare \n",
    "\n",
    "You can download imagenet-mini [from kaggle](https://www.kaggle.com/datasets/ifigotin/imagenetmini-1000). \n",
    "\n",
    "ImageNet-mini is a toy dataset compared with imagenet-1k, which has 1000 classes and is only 4.24GB.\n",
    "\n",
    "For quick iteration, we adopted imagenet-mini as a dataset for training and evaluation. If you have enough computation resources, you can try imagine-1k directly.\n",
    "\n",
    "In PP AI Studio, [imagenet-mini datasets](https://aistudio.baidu.com/aistudio/datasetdetail/89857) have been offered to us. \n",
    "\n",
    "\n",
    "1.3 Arch Json Prepare \n",
    "\n",
    "[Here](https://aistudio.baidu.com/aistudio/datasetdetail/134077) you can get the 4,5000 architectures for test. Download CVPR_2022_NAS_Track1_test.json and put it to `checkpoints/CVPR_2022_NAS_Track1_test.json` \n"
   ]
  },
  {
   "cell_type": "markdown",
   "metadata": {},
   "source": [
    "## 2. SuperNet Training\n",
    "\n",
    "First, we need to import necessary modules."
   ]
  },
  {
   "cell_type": "code",
   "execution_count": null,
   "metadata": {},
   "outputs": [
    {
     "ename": "",
     "evalue": "",
     "output_type": "error",
     "traceback": [
      "\u001b[1;31mThe kernel failed to start due to the missing module 'decorator'. Consider installing this module.\n",
      "Click <a href='https://aka.ms/kernelFailuresMissingModule'>here</a> for more info."
     ]
    }
   ],
   "source": [
    "import os\n",
    "\n",
    "import paddle\n",
    "import paddle.nn as nn\n",
    "from paddle.nn import CrossEntropyLoss\n",
    "from paddle.vision.transforms import (\n",
    "    RandomHorizontalFlip, RandomResizedCrop, SaturationTransform, \n",
    "    Compose, Resize, HueTransform, BrightnessTransform, ContrastTransform, \n",
    "    RandomCrop, Normalize, RandomRotation, CenterCrop)\n",
    "from paddle.io import DataLoader\n",
    "from paddle.optimizer.lr import CosineAnnealingDecay, MultiStepDecay, LinearWarmup\n",
    "\n",
    "from hnas.utils.callbacks import LRSchedulerM, MyModelCheckpoint\n",
    "from hnas.utils.transforms import ToArray\n",
    "from hnas.dataset.random_size_crop import MyRandomResizedCrop\n",
    "from paddle.vision.datasets import DatasetFolder\n",
    "\n",
    "from paddleslim.nas.ofa.convert_super import Convert, supernet\n",
    "from paddleslim.nas.ofa import RunConfig, DistillConfig, ResOFA\n",
    "from paddleslim.nas.ofa.utils import utils\n",
    "\n",
    "import paddle.distributed as dist\n",
    "from hnas.utils.yacs import CfgNode\n",
    "from hnas.models.builder import build_classifier\n",
    "from hnas.utils.hapi_wrapper import Trainer"
   ]
  },
  {
   "cell_type": "markdown",
   "metadata": {},
   "source": [
    "Then, we set the loss function and accuracy computation part in paddle.\n",
    "\n",
    "We offer three ways to compute loss:\n",
    "\n",
    "- Normal CrossEntropy Loss for teacher network.  \n",
    "- Inplace Distillation for student network.\n",
    "- Knowledge Distillation for student network."
   ]
  },
  {
   "cell_type": "code",
   "execution_count": null,
   "metadata": {},
   "outputs": [],
   "source": [
    "def _loss_forward(self, input, tea_input=None, label=None):\n",
    "    if tea_input is not None and label is not None:\n",
    "        # knoledge distillation = cross entropy + inplace distillation\n",
    "        ce = paddle.nn.functional.cross_entropy(\n",
    "            input,\n",
    "            label,\n",
    "            weight=self.weight,\n",
    "            ignore_index=self.ignore_index,\n",
    "            reduction=self.reduction,\n",
    "            soft_label=self.soft_label,\n",
    "            axis=self.axis,\n",
    "            name=self.name)\n",
    "\n",
    "        kd = paddle.nn.functional.cross_entropy(\n",
    "            input,\n",
    "            paddle.nn.functional.softmax(tea_input),\n",
    "            weight=self.weight,\n",
    "            ignore_index=self.ignore_index,\n",
    "            reduction=self.reduction,\n",
    "            soft_label=True,\n",
    "            axis=self.axis)\n",
    "        return ce, kd\n",
    "    elif tea_input is not None and label is None:\n",
    "        # inplace distillation\n",
    "        kd = paddle.nn.functional.cross_entropy(\n",
    "            input,\n",
    "            paddle.nn.functional.softmax(tea_input),\n",
    "            weight=self.weight,\n",
    "            ignore_index=self.ignore_index,\n",
    "            reduction=self.reduction,\n",
    "            soft_label=True,\n",
    "            axis=self.axis)\n",
    "        return kd \n",
    "    elif label is not None:\n",
    "        # normal cross entropy \n",
    "        ce = paddle.nn.functional.cross_entropy(\n",
    "            input,\n",
    "            label,\n",
    "            weight=self.weight,\n",
    "            ignore_index=self.ignore_index,\n",
    "            reduction=self.reduction,\n",
    "            soft_label=False,\n",
    "            axis=self.axis,\n",
    "            name=self.name)\n",
    "        return ce\n",
    "    else:\n",
    "        raise \"Not Implemented Loss.\"\n",
    "\n",
    "CrossEntropyLoss.forward = _loss_forward\n",
    "\n",
    "def _compute(self, pred, tea_pred, label=None, *args):\n",
    "    if label is None:\n",
    "        label = tea_pred\n",
    "    pred = paddle.argsort(pred, descending=True)\n",
    "    pred = paddle.slice(\n",
    "        pred, axes=[len(pred.shape) - 1], starts=[0], ends=[self.maxk])\n",
    "    if (len(label.shape) == 1) or \\\n",
    "        (len(label.shape) == 2 and label.shape[-1] == 1):\n",
    "        label = paddle.reshape(label, (-1, 1))\n",
    "    elif label.shape[-1] != 1:\n",
    "        label = paddle.argmax(label, axis=-1, keepdim=True)\n",
    "    correct = pred == label\n",
    "    return paddle.cast(correct, dtype='float32')\n",
    "\n",
    "paddle.metric.Accuracy.compute = _compute"
   ]
  },
  {
   "cell_type": "markdown",
   "metadata": {},
   "source": [
    "Next, we should set the parameters:"
   ]
  },
  {
   "cell_type": "code",
   "execution_count": null,
   "metadata": {},
   "outputs": [],
   "source": [
    "backbone='resnet48_prelu'\n",
    "image_size='224'\n",
    "max_epoch=70\n",
    "lr=0.001\n",
    "weight_decay=0.\n",
    "momentum=0.9\n",
    "batch_size=256\n",
    "dyna_batch_size=4\n",
    "warmup=2\n",
    "phase=None\n",
    "resume=None\n",
    "pretrained='checkpoints/resnet48.pdparams'\n",
    "image_dir='/root/paddlejob/workspace/env_run/data/ILSVRC2012/'\n",
    "save_dir='checkpoints/res48-depth'\n",
    "save_freq=20\n",
    "log_freq=100\n",
    "visualdl_dir=\"./visualdl_log/autoslim3\""
   ]
  }
 ],
 "metadata": {
  "interpreter": {
   "hash": "a950f88516a1a6ad48349b1bab432b2b283d21e009d9fef047f7a206edc26faa"
  },
  "kernelspec": {
   "display_name": "Python 3.7.12 ('pp')",
   "language": "python",
   "name": "python3"
  },
  "language_info": {
   "name": "python",
   "version": "3.7.12"
  },
  "orig_nbformat": 4
 },
 "nbformat": 4,
 "nbformat_minor": 2
}
